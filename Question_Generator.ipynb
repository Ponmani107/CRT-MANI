{
  "nbformat": 4,
  "nbformat_minor": 0,
  "metadata": {
    "colab": {
      "provenance": [],
      "gpuType": "T4",
      "machine_shape": "hm"
    },
    "kernelspec": {
      "name": "python3",
      "display_name": "Python 3"
    },
    "language_info": {
      "name": "python"
    },
    "accelerator": "GPU"
  },
  "cells": [
    {
      "cell_type": "markdown",
      "source": [
        "# Part 1: Inference"
      ],
      "metadata": {
        "id": "bWMahIVXQx_I"
      }
    },
    {
      "cell_type": "code",
      "source": [
        "# Install the required libraries for transformers (Hugging Face library for NLP)\n",
        "!pip install transformers"
      ],
      "metadata": {
        "id": "YRZMqNQSRgtu",
        "collapsed": true,
        "colab": {
          "base_uri": "https://localhost:8080/"
        },
        "outputId": "3c756283-8650-4bd0-b399-fbee9a102dc4"
      },
      "execution_count": 1,
      "outputs": [
        {
          "output_type": "stream",
          "name": "stdout",
          "text": [
            "Requirement already satisfied: transformers in /usr/local/lib/python3.11/dist-packages (4.53.3)\n",
            "Requirement already satisfied: filelock in /usr/local/lib/python3.11/dist-packages (from transformers) (3.18.0)\n",
            "Requirement already satisfied: huggingface-hub<1.0,>=0.30.0 in /usr/local/lib/python3.11/dist-packages (from transformers) (0.33.5)\n",
            "Requirement already satisfied: numpy>=1.17 in /usr/local/lib/python3.11/dist-packages (from transformers) (2.0.2)\n",
            "Requirement already satisfied: packaging>=20.0 in /usr/local/lib/python3.11/dist-packages (from transformers) (25.0)\n",
            "Requirement already satisfied: pyyaml>=5.1 in /usr/local/lib/python3.11/dist-packages (from transformers) (6.0.2)\n",
            "Requirement already satisfied: regex!=2019.12.17 in /usr/local/lib/python3.11/dist-packages (from transformers) (2024.11.6)\n",
            "Requirement already satisfied: requests in /usr/local/lib/python3.11/dist-packages (from transformers) (2.32.3)\n",
            "Requirement already satisfied: tokenizers<0.22,>=0.21 in /usr/local/lib/python3.11/dist-packages (from transformers) (0.21.2)\n",
            "Requirement already satisfied: safetensors>=0.4.3 in /usr/local/lib/python3.11/dist-packages (from transformers) (0.5.3)\n",
            "Requirement already satisfied: tqdm>=4.27 in /usr/local/lib/python3.11/dist-packages (from transformers) (4.67.1)\n",
            "Requirement already satisfied: fsspec>=2023.5.0 in /usr/local/lib/python3.11/dist-packages (from huggingface-hub<1.0,>=0.30.0->transformers) (2025.3.0)\n",
            "Requirement already satisfied: typing-extensions>=3.7.4.3 in /usr/local/lib/python3.11/dist-packages (from huggingface-hub<1.0,>=0.30.0->transformers) (4.14.1)\n",
            "Requirement already satisfied: hf-xet<2.0.0,>=1.1.2 in /usr/local/lib/python3.11/dist-packages (from huggingface-hub<1.0,>=0.30.0->transformers) (1.1.5)\n",
            "Requirement already satisfied: charset-normalizer<4,>=2 in /usr/local/lib/python3.11/dist-packages (from requests->transformers) (3.4.2)\n",
            "Requirement already satisfied: idna<4,>=2.5 in /usr/local/lib/python3.11/dist-packages (from requests->transformers) (3.10)\n",
            "Requirement already satisfied: urllib3<3,>=1.21.1 in /usr/local/lib/python3.11/dist-packages (from requests->transformers) (2.5.0)\n",
            "Requirement already satisfied: certifi>=2017.4.17 in /usr/local/lib/python3.11/dist-packages (from requests->transformers) (2025.7.14)\n"
          ]
        }
      ]
    },
    {
      "cell_type": "code",
      "source": [
        "from transformers import pipeline\n",
        "\n",
        "# Specify the model to use (pretrained from Hugging Face)\n",
        "model_name = \"deepseek-ai/DeepSeek-R1-Distill-Qwen-1.5B\" # You can use other models or your own fine-tuned one model here\n",
        "task = \"text-generation\"\n",
        "prompt = input(\"Promt\")\n",
        "\n",
        "# Create a text-generation pipeline\n",
        "generator = pipeline(task, model=model_name)\n",
        "\n",
        "# Generate text based on the given prompt\n",
        "results = generator(prompt, max_length=100, truncation=True, num_return_sequences=1)\n",
        "\n",
        "# Print the generated output\n",
        "text = results[0].get(\"generated_text\")  # Extract generated text\n",
        "print(f\"Generated text:\\n{text}\")"
      ],
      "metadata": {
        "id": "R1iCaTp9MYyb",
        "collapsed": true,
        "colab": {
          "base_uri": "https://localhost:8080/"
        },
        "outputId": "40671b97-7ae0-429d-85df-1da2ee95f1d0"
      },
      "execution_count": 6,
      "outputs": [
        {
          "name": "stdout",
          "output_type": "stream",
          "text": [
            "Promtdescribe about laptops\n"
          ]
        },
        {
          "output_type": "stream",
          "name": "stderr",
          "text": [
            "Device set to use cuda:0\n",
            "Both `max_new_tokens` (=256) and `max_length`(=100) seem to have been set. `max_new_tokens` will take precedence. Please refer to the documentation for more information. (https://huggingface.co/docs/transformers/main/en/main_classes/text_generation)\n"
          ]
        },
        {
          "output_type": "stream",
          "name": "stdout",
          "text": [
            "Generated text:\n",
            "describe about laptops with 13.6-inch screen sizes.\n",
            "\n",
            "What are the key features I should look for when purchasing a laptop with a 13.6-inch screen?\n",
            "\n",
            "What is the typical price range for such laptops?\n",
            "\n",
            "What are the main categories in the market where these laptops are sold?\n",
            "\n",
            "What are the most common complaints or issues reported by users of such laptops?\n",
            "\n",
            "What is the average time a user spends on a laptop with a 13.6-inch screen?\n",
            "\n",
            "What is the average screen size that users can expect to see on a laptop with a 13.6-inch screen?\n",
            "\n",
            "What are the common screen resolutions used for this size?\n",
            "\n",
            "What is the typical price of a new laptop with a 13.6-inch screen?\n",
            "\n",
            "What is the average price of a used laptop with a 13.6-inch screen?\n",
            "\n",
            "What is the main difference between a standard laptop and a 13.6-inch laptop?\n",
            "\n",
            "What is the typical power consumption of a 13.6-inch laptop?\n",
            "\n",
            "What is the typical battery life of a 13.6-inch laptop?\n",
            "\n",
            "What is the typical duration of the battery life when in use for a 13.6-inch laptop?\n",
            "\n",
            "What is the typical duration of the battery life when in use for a 1\n"
          ]
        }
      ]
    }
  ]
}